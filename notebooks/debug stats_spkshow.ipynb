{
 "metadata": {
  "name": "",
  "signature": "sha256:1390d2c9ef5a0cc807bf063144e0a36048688423569f4035ca93be4be90f8bc2"
 },
 "nbformat": 3,
 "nbformat_minor": 0,
 "worksheets": [
  {
   "cells": [
    {
     "cell_type": "code",
     "collapsed": false,
     "input": [
      "%pylab inline"
     ],
     "language": "python",
     "metadata": {},
     "outputs": [
      {
       "output_type": "stream",
       "stream": "stdout",
       "text": [
        "Populating the interactive namespace from numpy and matplotlib\n"
       ]
      }
     ],
     "prompt_number": 4
    },
    {
     "cell_type": "code",
     "collapsed": false,
     "input": [
      "uri = 'BFMTV_BFMStory_2012-07-24_175800'"
     ],
     "language": "python",
     "metadata": {},
     "outputs": [],
     "prompt_number": 1
    },
    {
     "cell_type": "code",
     "collapsed": false,
     "input": [
      "from pyannote.parser import MagicParser"
     ],
     "language": "python",
     "metadata": {},
     "outputs": [],
     "prompt_number": 2
    },
    {
     "cell_type": "code",
     "collapsed": false,
     "input": [
      "reference = MagicParser().read('../reference/test2.repere')(uri=uri)\n",
      "hypothesis = MagicParser().read('../run_primary_supervised/PERCOOL_sup.repere')(uri=uri)\n",
      "uem = MagicParser().read('../reference/test2.uem')(uri=uri)"
     ],
     "language": "python",
     "metadata": {},
     "outputs": [],
     "prompt_number": 3
    },
    {
     "cell_type": "markdown",
     "metadata": {},
     "source": [
      "Keep `uem` only"
     ]
    },
    {
     "cell_type": "code",
     "collapsed": false,
     "input": [
      "R = reference.crop(uem)\n",
      "H = hypothesis.crop(uem)"
     ],
     "language": "python",
     "metadata": {},
     "outputs": [],
     "prompt_number": 26
    },
    {
     "cell_type": "markdown",
     "metadata": {},
     "source": [
      "Remove `unknown`"
     ]
    },
    {
     "cell_type": "code",
     "collapsed": false,
     "input": [
      "from pyannote.core import Unknown\n",
      "unknowns = set([label for label in R.labels() if isinstance(label, Unknown)])\n",
      "r = R.subset(unknowns, invert=True)\n",
      "unknowns = set([label for label in H.labels() if isinstance(label, Unknown)])\n",
      "h = H.subset(unknowns, invert=True)"
     ],
     "language": "python",
     "metadata": {},
     "outputs": [],
     "prompt_number": 27
    },
    {
     "cell_type": "code",
     "collapsed": false,
     "input": [
      "from pyannote.core import Segment\n",
      "from pyannote.core.notebook import set_notebook_crop\n",
      "crop = Segment(2180, 2220)\n",
      "set_notebook_crop(crop)"
     ],
     "language": "python",
     "metadata": {},
     "outputs": [],
     "prompt_number": 28
    },
    {
     "cell_type": "code",
     "collapsed": false,
     "input": [
      "r"
     ],
     "language": "python",
     "metadata": {},
     "outputs": [
      {
       "metadata": {},
       "output_type": "pyout",
       "png": "[encoded data removed]",
       "prompt_number": 29,
       "text": [
        "<pyannote.core.annotation.Annotation at 0x11343c910>"
       ]
      }
     ],
     "prompt_number": 29
    },
    {
     "cell_type": "code",
     "collapsed": false,
     "input": [
      "h"
     ],
     "language": "python",
     "metadata": {},
     "outputs": [
      {
       "metadata": {},
       "output_type": "pyout",
       "png": "[encoded data removed]",
       "prompt_number": 30,
       "text": [
        "<pyannote.core.annotation.Annotation at 0x113487d50>"
       ]
      }
     ],
     "prompt_number": 30
    },
    {
     "cell_type": "code",
     "collapsed": false,
     "input": [
      "from pyannote.metrics.errors.identification import IdentificationErrorAnalysis\n",
      "analyzer = IdentificationErrorAnalysis?"
     ],
     "language": "python",
     "metadata": {},
     "outputs": [],
     "prompt_number": 31
    },
    {
     "cell_type": "code",
     "collapsed": false,
     "input": [
      "analyzer = IdentificationErrorAnalysis(unknown=False)"
     ],
     "language": "python",
     "metadata": {},
     "outputs": [],
     "prompt_number": 32
    },
    {
     "cell_type": "code",
     "collapsed": false,
     "input": [
      "for segment, _, status in  analyzer.difference(R.crop(crop), H.crop(crop)).smooth().itertracks(label=True):\n",
      "    print segment, status"
     ],
     "language": "python",
     "metadata": {},
     "outputs": [
      {
       "output_type": "stream",
       "stream": "stdout",
       "text": [
        "[2180.000 --> 2190.960] (u'correct', 'Barack_OBAMA', 'Barack_OBAMA')\n",
        "[2190.960 --> 2192.062] (u'confusion', 'Barack_OBAMA', 'Ban_KI-MOON')\n",
        "[2192.062 --> 2197.700] (u'confusion', 'Anna_MOREAU', 'Ban_KI-MOON')\n",
        "[2197.700 --> 2210.240] (u'correct', 'Ban_KI-MOON', 'Ban_KI-MOON')\n",
        "[2210.240 --> 2210.420] (u'confusion', 'Anna_MOREAU', 'Ban_KI-MOON')\n",
        "[2210.420 --> 2217.944] (u'confusion', 'Anna_MOREAU', 'Luis_DE_GUINDOS')\n",
        "[2217.944 --> 2218.240] (u'confusion', 'Damien_GOURLET', 'Luis_DE_GUINDOS')\n",
        "[2218.240 --> 2220.000] (u'correct', 'Damien_GOURLET', 'Damien_GOURLET')\n"
       ]
      }
     ],
     "prompt_number": 40
    },
    {
     "cell_type": "code",
     "collapsed": false,
     "input": [
      "analyzer.matrix(R.crop(crop), H.crop(crop))"
     ],
     "language": "python",
     "metadata": {},
     "outputs": [
      {
       "html": [
        "<div style=\"max-height:1000px;max-width:1500px;overflow:auto;\">\n",
        "<table border=\"1\" class=\"dataframe\">\n",
        "  <thead>\n",
        "    <tr style=\"text-align: right;\">\n",
        "      <th></th>\n",
        "      <th>reference</th>\n",
        "      <th>hypothesis</th>\n",
        "      <th>correct</th>\n",
        "      <th>confusion</th>\n",
        "      <th>false alarm</th>\n",
        "      <th>missed detection</th>\n",
        "      <th>Ban_KI-MOON</th>\n",
        "      <th>Barack_OBAMA</th>\n",
        "      <th>Damien_GOURLET</th>\n",
        "      <th>Luis_DE_GUINDOS</th>\n",
        "    </tr>\n",
        "  </thead>\n",
        "  <tbody>\n",
        "    <tr>\n",
        "      <th>Anna_MOREAU</th>\n",
        "      <td> 13.342</td>\n",
        "      <td>  0.00</td>\n",
        "      <td>  0.00</td>\n",
        "      <td> 13.342</td>\n",
        "      <td> 0</td>\n",
        "      <td> 0</td>\n",
        "      <td>  5.818</td>\n",
        "      <td>  0.00</td>\n",
        "      <td> 0.00</td>\n",
        "      <td> 7.524</td>\n",
        "    </tr>\n",
        "    <tr>\n",
        "      <th>Ban_KI-MOON</th>\n",
        "      <td> 12.540</td>\n",
        "      <td> 19.46</td>\n",
        "      <td> 12.54</td>\n",
        "      <td>  0.000</td>\n",
        "      <td> 0</td>\n",
        "      <td> 0</td>\n",
        "      <td> 12.540</td>\n",
        "      <td>  0.00</td>\n",
        "      <td> 0.00</td>\n",
        "      <td> 0.000</td>\n",
        "    </tr>\n",
        "    <tr>\n",
        "      <th>Barack_OBAMA</th>\n",
        "      <td> 12.062</td>\n",
        "      <td> 10.96</td>\n",
        "      <td> 10.96</td>\n",
        "      <td>  1.102</td>\n",
        "      <td> 0</td>\n",
        "      <td> 0</td>\n",
        "      <td>  1.102</td>\n",
        "      <td> 10.96</td>\n",
        "      <td> 0.00</td>\n",
        "      <td> 0.000</td>\n",
        "    </tr>\n",
        "    <tr>\n",
        "      <th>Damien_GOURLET</th>\n",
        "      <td>  2.056</td>\n",
        "      <td>  1.76</td>\n",
        "      <td>  1.76</td>\n",
        "      <td>  0.296</td>\n",
        "      <td> 0</td>\n",
        "      <td> 0</td>\n",
        "      <td>  0.000</td>\n",
        "      <td>  0.00</td>\n",
        "      <td> 1.76</td>\n",
        "      <td> 0.296</td>\n",
        "    </tr>\n",
        "  </tbody>\n",
        "</table>\n",
        "<p>4 rows \u00d7 10 columns</p>\n",
        "</div>"
       ],
       "metadata": {},
       "output_type": "pyout",
       "prompt_number": 34,
       "text": [
        "<pyannote.core.matrix.LabelMatrix at 0x1146c3550>"
       ]
      }
     ],
     "prompt_number": 34
    }
   ],
   "metadata": {}
  }
 ]
}
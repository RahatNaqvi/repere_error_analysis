{
 "metadata": {
  "name": "",
  "signature": "sha256:d2912ff0f2595595605e0e77d65d186d04f99123a8a70acceb8f267eca056bc7"
 },
 "nbformat": 3,
 "nbformat_minor": 0,
 "worksheets": [
  {
   "cells": [
    {
     "cell_type": "heading",
     "level": 1,
     "metadata": {},
     "source": [
      "performance = $f$(segment duration)"
     ]
    },
    {
     "cell_type": "markdown",
     "metadata": {},
     "source": [
      "The objective of this notebook is to analyse the **effect of segment duration on system performance**.  \n",
      "We show (and it was expected) that the **shorter** the segment is, the **more difficult** it is to recognize (see figures at the end).  \n",
      "However, notice the *plateau* for durations higher than (approximately) 5 seconds in the mono-modal case..."
     ]
    },
    {
     "cell_type": "code",
     "collapsed": false,
     "input": [
      "%pylab inline"
     ],
     "language": "python",
     "metadata": {},
     "outputs": [
      {
       "output_type": "stream",
       "stream": "stdout",
       "text": [
        "Populating the interactive namespace from numpy and matplotlib\n"
       ]
      },
      {
       "output_type": "stream",
       "stream": "stderr",
       "text": [
        "WARNING: pylab import has clobbered these variables: ['show', 'f']\n",
        "`%matplotlib` prevents importing * from pylab and numpy\n"
       ]
      }
     ],
     "prompt_number": 22
    },
    {
     "cell_type": "code",
     "collapsed": false,
     "input": [
      "DATA = '/Volumes/home/Documents/Publications/2014/REPEREErrorAnalysis/data'"
     ],
     "language": "python",
     "metadata": {},
     "outputs": [],
     "prompt_number": 1
    },
    {
     "cell_type": "code",
     "collapsed": false,
     "input": [
      "from pyannote.parser.repere import REPEREParser\n",
      "from pyannote.parser.uem import UEMParser\n",
      "from pyannote.metrics.identification import IdentificationErrorRate\n",
      "from pyannote.core import Timeline\n",
      "from pyannote.core.util import pairwise\n",
      "import numpy as np"
     ],
     "language": "python",
     "metadata": {},
     "outputs": [],
     "prompt_number": 14
    },
    {
     "cell_type": "code",
     "collapsed": false,
     "input": [
      "def cropBySegmentDuration(reference, hypothesis, m, M):\n",
      "    \"\"\"\n",
      "    Parameters\n",
      "    ----------\n",
      "    reference, hypothesis : Annotation\n",
      "        Reference and hypothesis annotations\n",
      "    m, M : float\n",
      "        Segment duration range (m <= duration < M)\n",
      "    Returns\n",
      "    -------\n",
      "    reference, hypothesis : Annotation\n",
      "        Reference and hypothesis cropped to reference segments\n",
      "        with duration between m (included) and M (excluded)\n",
      "    \"\"\"\n",
      "    \n",
      "    timeline = Timeline(segments=[segment for segment in reference.get_timeline() \n",
      "                                  if m <= segment.duration and segment.duration < M])\n",
      "    return reference.crop(timeline, mode='intersection'), hypothesis.crop(timeline, mode='intersection')"
     ],
     "language": "python",
     "metadata": {},
     "outputs": [],
     "prompt_number": 80
    },
    {
     "cell_type": "markdown",
     "metadata": {},
     "source": [
      "Load reference annotations"
     ]
    },
    {
     "cell_type": "code",
     "collapsed": false,
     "input": [
      "REFERENCE = REPEREParser().read(DATA + '/reference.repere')\n",
      "UEM = UEMParser().read(DATA + '/test2.uem')\n",
      "with open(DATA + '/shows.txt', 'r') as f:\n",
      "    SHOWS = [line.strip() for line in f.readlines()]"
     ],
     "language": "python",
     "metadata": {},
     "outputs": [],
     "prompt_number": 15
    },
    {
     "cell_type": "heading",
     "level": 2,
     "metadata": {},
     "source": [
      "Mono-modal systems"
     ]
    },
    {
     "cell_type": "code",
     "collapsed": false,
     "input": [
      "QCOMPERE = REPEREParser().read(DATA + '/qcompere.mono.repere')\n",
      "PERCOL = REPEREParser().read(DATA + '/percol.mono.repere')\n",
      "SODA = REPEREParser().read(DATA + '/soda.mono.repere')\n",
      "SUBMISSIONS = {'QCOMPERE': QCOMPERE, 'PERCOL': PERCOL, 'SODA': SODA}"
     ],
     "language": "python",
     "metadata": {},
     "outputs": [],
     "prompt_number": 104
    },
    {
     "cell_type": "code",
     "collapsed": false,
     "input": [
      "ier = {team: {} for team in SUBMISSIONS}\n",
      "durationBins = np.concatenate((np.logspace(0., 2, num=20), [np.inf]))-1\n",
      "for team, HYPOTHESIS in SUBMISSIONS.iteritems():\n",
      "    for m, M in pairwise(durationBins):\n",
      "        ier[team][m, M] = IdentificationErrorRate()\n",
      "        for show in SHOWS:\n",
      "            reference = REFERENCE(show, 'speaker').crop(UEM(show), mode='intersection')\n",
      "            hypothesis = HYPOTHESIS(show, 'speaker')\n",
      "            reference, hypothesis = cropBySegmentDuration(reference, hypothesis, m, M)\n",
      "            ier[team][m, M](reference, hypothesis, uem=reference.get_timeline())"
     ],
     "language": "python",
     "metadata": {},
     "outputs": [],
     "prompt_number": 105
    },
    {
     "cell_type": "code",
     "collapsed": false,
     "input": [
      "left = np.log(durationBins[:-1]+1)\n",
      "width = [np.log(M+1)-np.log(m+1) for m, M in pairwise(durationBins)]\n",
      "pylab.rcParams['figure.figsize'] = (15.0, 5.0)\n",
      "for t, team in enumerate(SUBMISSIONS):\n",
      "    subplot(1,3,t+1)\n",
      "    height = [abs(ier[team][m, M]) for m, M in pairwise(durationBins)]\n",
      "    bar(left, height, width=width)\n",
      "    xticks(left[::2], ['%.1f' % d for d in durationBins[:-1:2]])\n",
      "    xlabel('Segment duration')\n",
      "    ylabel('Identification error rate')\n",
      "    ylim(0, 1)\n",
      "    title(team)"
     ],
     "language": "python",
     "metadata": {},
     "outputs": [
      {
       "metadata": {},
       "output_type": "display_data",
       "png": "[encoded data removed]",
       "text": [
        "<matplotlib.figure.Figure at 0x10bb43250>"
       ]
      }
     ],
     "prompt_number": 106
    },
    {
     "cell_type": "heading",
     "level": 2,
     "metadata": {},
     "source": [
      "Multi-modal systems"
     ]
    },
    {
     "cell_type": "code",
     "collapsed": false,
     "input": [
      "QCOMPERE = REPEREParser().read(DATA + '/qcompere.repere')\n",
      "PERCOL = REPEREParser().read(DATA + '/percol.repere')\n",
      "SODA = REPEREParser().read(DATA + '/soda.repere')\n",
      "SUBMISSIONS = {'QCOMPERE': QCOMPERE, 'PERCOL': PERCOL, 'SODA': SODA}"
     ],
     "language": "python",
     "metadata": {},
     "outputs": [],
     "prompt_number": 101
    },
    {
     "cell_type": "code",
     "collapsed": false,
     "input": [
      "ier = {team: {} for team in SUBMISSIONS}\n",
      "durationBins = np.concatenate((np.logspace(0., 2, num=20), [np.inf]))-1\n",
      "for team, HYPOTHESIS in SUBMISSIONS.iteritems():\n",
      "    for m, M in pairwise(durationBins):\n",
      "        ier[team][m, M] = IdentificationErrorRate()\n",
      "        for show in SHOWS:\n",
      "            reference = REFERENCE(show, 'speaker').crop(UEM(show), mode='intersection')\n",
      "            hypothesis = HYPOTHESIS(show, 'speaker')\n",
      "            reference, hypothesis = cropBySegmentDuration(reference, hypothesis, m, M)\n",
      "            ier[team][m, M](reference, hypothesis, uem=reference.get_timeline())"
     ],
     "language": "python",
     "metadata": {},
     "outputs": [],
     "prompt_number": 102
    },
    {
     "cell_type": "code",
     "collapsed": false,
     "input": [
      "left = np.log(durationBins[:-1]+1)\n",
      "width = [np.log(M+1)-np.log(m+1) for m, M in pairwise(durationBins)]\n",
      "pylab.rcParams['figure.figsize'] = (15.0, 5.0)\n",
      "for t, team in enumerate(SUBMISSIONS):\n",
      "    subplot(1,3,t+1)\n",
      "    height = [abs(ier[team][m, M]) for m, M in pairwise(durationBins)]\n",
      "    bar(left, height, width=width)\n",
      "    xticks(left[::2], ['%.1f' % d for d in durationBins[:-1:2]])\n",
      "    xlabel('Segment duration')\n",
      "    ylabel('Identification error rate')\n",
      "    ylim(0, 1)\n",
      "    title(team)"
     ],
     "language": "python",
     "metadata": {},
     "outputs": [
      {
       "metadata": {},
       "output_type": "display_data",
       "png": "[encoded data removed]",
       "text": [
        "<matplotlib.figure.Figure at 0x1177e87d0>"
       ]
      }
     ],
     "prompt_number": 103
    }
   ],
   "metadata": {}
  }
 ]
}
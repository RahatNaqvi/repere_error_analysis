{
 "metadata": {
  "name": "",
  "signature": "sha256:d0780b85bc196b703ed09f90b29384753e3bb479739da9034ab753edf03d3101"
 },
 "nbformat": 3,
 "nbformat_minor": 0,
 "worksheets": [
  {
   "cells": [
    {
     "cell_type": "heading",
     "level": 2,
     "metadata": {},
     "source": [
      "Identification error rate"
     ]
    },
    {
     "cell_type": "markdown",
     "metadata": {},
     "source": [
      "This notebook uses `pyannote.metrics` to compute the identification error rate (with and without collar, with and without `Inconnu`) for primary submissions of the 3 consortia. It also relies on `pyannote.parser` to parse submission and reference files.\n",
      "\n",
      "Both module can be installed the easy `pip` way:\n",
      "```bash\n",
      "$ pip install pyannote.metrics pyannote.parser\n",
      "```"
     ]
    },
    {
     "cell_type": "code",
     "collapsed": false,
     "input": [
      "# load parser for files in REPERE submissions format\n",
      "from pyannote.parser import REPEREParser\n",
      "# load parser for UEM files\n",
      "from pyannote.parser import UEMParser"
     ],
     "language": "python",
     "metadata": {},
     "outputs": [],
     "prompt_number": 1
    },
    {
     "cell_type": "code",
     "collapsed": false,
     "input": [
      "# load reference\n",
      "# (see ../scripts/trs2repere.py)\n",
      "references = REPEREParser().read('../data/reference.repere')\n",
      "\n",
      "# load uem\n",
      "uems = UEMParser().read('../data/test2.uem')\n",
      "\n",
      "# load PRIMARY runs for all 3 consortia\n",
      "consortia = ['percol', 'qcompere', 'soda']\n",
      "hypotheses = {\n",
      "    team: REPEREParser().read('../data/{team}.repere'.format(team=team)) \n",
      "    for team in consortia}"
     ],
     "language": "python",
     "metadata": {},
     "outputs": [],
     "prompt_number": 2
    },
    {
     "cell_type": "code",
     "collapsed": true,
     "input": [
      "# load identification error rate metric\n",
      "from pyannote.metrics.identification import IdentificationErrorRate"
     ],
     "language": "python",
     "metadata": {},
     "outputs": [],
     "prompt_number": 3
    },
    {
     "cell_type": "code",
     "collapsed": false,
     "input": [
      "def compute_ier(references, hypotheses, uems, uris=None, collar=0., unknown=True, verbose=False):\n",
      "    \"\"\"Compute identification error rate for all consortia\n",
      "    \n",
      "    Parameters\n",
      "    ----------\n",
      "    references : `REPEREParser`\n",
      "    hypotheses : dict of `REPEREParser`\n",
      "        Dictionary keys are names of consortia.\n",
      "    uems : `UEMParser`\n",
      "    uris : iterable, optional\n",
      "        When provided, only perform evaluation on those shows.\n",
      "    collar : float, optional\n",
      "        Collar (in ms) centered on reference boundaries.\n",
      "        Defaults to no collar.\n",
      "    unknown : bool, optional\n",
      "        Keep unknown. Defaults to True.\n",
      "    verbose: bool, optional\n",
      "        Print per-show error rate. Defaults to False.\n",
      "        \n",
      "    Returns\n",
      "    -------\n",
      "    ier : dict\n",
      "        Consortia-indexed dictionary of accumulated identification error rates.\n",
      "    \"\"\"\n",
      "    \n",
      "    # get list of consortia in alphabetical order\n",
      "    consortia = sorted(hypotheses)\n",
      "    \n",
      "    # defaults to all show in reference\n",
      "    if uris is None:\n",
      "        uris = references.uris\n",
      "    \n",
      "\n",
      "    # this should be changed to 250ms...\n",
      "    identificationErrorRate = {team: IdentificationErrorRate(collar=collar, unknown=unknown) for team in consortia}\n",
      "\n",
      "    if verbose:\n",
      "        # line template {uri:<20s} | {percol:^8s} {qcompere:^8s} {soda:^8s}\n",
      "        template_head = '{uri:<40s} | ' + ' '.join(['{{{team}:^8s}}'.format(team=team) for team in consortia])\n",
      "        template_rows = '{uri:<40s} | ' + ' '.join(['{{{team}:^8.3f}}'.format(team=team) for team in consortia])\n",
      "        # print header\n",
      "        print template_head.format(uri='SHOW', **{team:team.upper() for team in consortia})\n",
      "    \n",
      "    # loop on every show (uri stands for 'uniform resource identifier')\n",
      "    for u, uri in enumerate(uris):\n",
      "\n",
      "        # get UEM for current show\n",
      "        uem = uems(uri=uri)\n",
      "\n",
      "        # get reference for this very show\n",
      "        reference = references(uri=uri, modality='speaker')\n",
      "    \n",
      "        # get hypothesis for this very show for all three consortia\n",
      "        hypothesis = {\n",
      "            team: hypotheses[team](uri=uri, modality='speaker')\n",
      "            for team in consortia\n",
      "        }\n",
      "\n",
      "        # compute IER for each team\n",
      "        # confusion, false alarm and missed detections are accumulated internally\n",
      "        ier = {team: identificationErrorRate[team](reference, hypothesis[team], uem=uem) \n",
      "               for team in consortia}\n",
      "        \n",
      "        if verbose:\n",
      "            # print row\n",
      "            print template_rows.format(uri=uri, **ier)\n",
      "        \n",
      "    return identificationErrorRate"
     ],
     "language": "python",
     "metadata": {},
     "outputs": [],
     "prompt_number": 4
    },
    {
     "cell_type": "code",
     "collapsed": true,
     "input": [
      "# identification error rate without collar, without unknown\n",
      "ier_noCollar_noUnknown = compute_ier(references, hypotheses, uems, collar=0., unknown=False, verbose=True)"
     ],
     "language": "python",
     "metadata": {},
     "outputs": [
      {
       "output_type": "stream",
       "stream": "stdout",
       "text": [
        "SHOW                                     |  PERCOL  QCOMPERE   SODA  \n",
        "BFMTV_BFMStory_2012-07-24_175800         |  0.228    0.155    0.198  "
       ]
      },
      {
       "output_type": "stream",
       "stream": "stdout",
       "text": [
        "\n",
        "BFMTV_BFMStory_2012-07-26_175800         |  0.126    0.118    0.159  "
       ]
      },
      {
       "output_type": "stream",
       "stream": "stdout",
       "text": [
        "\n",
        "BFMTV_BFMStory_2012-07-27_175800         |  0.117    0.071    0.248  "
       ]
      },
      {
       "output_type": "stream",
       "stream": "stdout",
       "text": [
        "\n",
        "BFMTV_BFMStory_2012-08-24_175800         |  0.270    0.226    0.214  "
       ]
      },
      {
       "output_type": "stream",
       "stream": "stdout",
       "text": [
        "\n",
        "BFMTV_BFMStory_2012-11-08_175800         |  0.385    0.382    0.390  "
       ]
      },
      {
       "output_type": "stream",
       "stream": "stdout",
       "text": [
        "\n",
        "BFMTV_BFMStory_2012-11-09_175800         |  0.083    0.101    0.082  "
       ]
      },
      {
       "output_type": "stream",
       "stream": "stdout",
       "text": [
        "\n",
        "BFMTV_BFMStory_2012-11-14_175800         |  0.212    0.068    0.126  "
       ]
      },
      {
       "output_type": "stream",
       "stream": "stdout",
       "text": [
        "\n",
        "BFMTV_BFMStory_2012-11-15_175800         |  0.186    0.043    0.047  "
       ]
      },
      {
       "output_type": "stream",
       "stream": "stdout",
       "text": [
        "\n",
        "BFMTV_CultureEtVous_2012-02-20_065040    |  0.189    0.234    0.262  "
       ]
      },
      {
       "output_type": "stream",
       "stream": "stdout",
       "text": [
        "\n",
        "BFMTV_CultureEtVous_2012-02-24_065040    |  0.507    0.353    0.266  "
       ]
      },
      {
       "output_type": "stream",
       "stream": "stdout",
       "text": [
        "\n",
        "BFMTV_CultureEtVous_2012-04-05_065040    |  0.291    0.368    0.479  "
       ]
      },
      {
       "output_type": "stream",
       "stream": "stdout",
       "text": [
        "\n",
        "BFMTV_CultureEtVous_2012-05-14_065040    |  0.350    0.597    0.415  "
       ]
      },
      {
       "output_type": "stream",
       "stream": "stdout",
       "text": [
        "\n",
        "BFMTV_CultureEtVous_2012-07-18_065040    |  0.347    0.321    0.363  "
       ]
      },
      {
       "output_type": "stream",
       "stream": "stdout",
       "text": [
        "\n",
        "BFMTV_CultureEtVous_2012-07-23_065040    |  0.668    1.036    0.574  "
       ]
      },
      {
       "output_type": "stream",
       "stream": "stdout",
       "text": [
        "\n",
        "BFMTV_CultureEtVous_2012-10-05_064700    |  0.313    0.290    0.445  "
       ]
      },
      {
       "output_type": "stream",
       "stream": "stdout",
       "text": [
        "\n",
        "BFMTV_CultureEtVous_2012-10-08_064700    |  0.360    0.370    0.296  "
       ]
      },
      {
       "output_type": "stream",
       "stream": "stdout",
       "text": [
        "\n",
        "BFMTV_CultureEtVous_2012-10-09_064700    |  0.295    0.188    0.683  "
       ]
      },
      {
       "output_type": "stream",
       "stream": "stdout",
       "text": [
        "\n",
        "BFMTV_CultureEtVous_2012-10-12_064700    |  0.296    0.350    0.537  "
       ]
      },
      {
       "output_type": "stream",
       "stream": "stdout",
       "text": [
        "\n",
        "BFMTV_CultureEtVous_2012-10-16_064700    |  0.490    0.480    0.671  "
       ]
      },
      {
       "output_type": "stream",
       "stream": "stdout",
       "text": [
        "\n",
        "BFMTV_CultureEtVous_2012-10-17_064700    |  0.205    0.236    0.697  "
       ]
      },
      {
       "output_type": "stream",
       "stream": "stdout",
       "text": [
        "\n",
        "BFMTV_CultureEtVous_2012-10-18_064700    |  0.413    0.409    0.445  "
       ]
      },
      {
       "output_type": "stream",
       "stream": "stdout",
       "text": [
        "\n",
        "BFMTV_CultureEtVous_2012-10-22_064700    |  0.386    0.275    0.413  "
       ]
      },
      {
       "output_type": "stream",
       "stream": "stdout",
       "text": [
        "\n",
        "BFMTV_CultureEtVous_2012-10-23_064700    |  0.390    0.515    0.614  "
       ]
      },
      {
       "output_type": "stream",
       "stream": "stdout",
       "text": [
        "\n",
        "BFMTV_CultureEtVous_2012-10-24_064700    |  0.358    0.385    0.589  "
       ]
      },
      {
       "output_type": "stream",
       "stream": "stdout",
       "text": [
        "\n",
        "BFMTV_CultureEtVous_2012-10-26_064700    |  0.541    0.574    0.726  "
       ]
      },
      {
       "output_type": "stream",
       "stream": "stdout",
       "text": [
        "\n",
        "BFMTV_CultureEtVous_2012-11-09_064700    |  0.871    0.720    0.903  "
       ]
      },
      {
       "output_type": "stream",
       "stream": "stdout",
       "text": [
        "\n",
        "BFMTV_CultureEtVous_2012-12-10_064700    |  0.405    0.307    0.400  "
       ]
      },
      {
       "output_type": "stream",
       "stream": "stdout",
       "text": [
        "\n",
        "BFMTV_CultureEtVous_2012-12-11_064700    |  0.303    0.349    0.482  "
       ]
      },
      {
       "output_type": "stream",
       "stream": "stdout",
       "text": [
        "\n",
        "BFMTV_CultureEtVous_2012-12-12_065040    |  0.380    0.355    0.596  "
       ]
      },
      {
       "output_type": "stream",
       "stream": "stdout",
       "text": [
        "\n",
        "BFMTV_CultureEtVous_2012-12-13_064700    |  0.946    1.056    0.920  "
       ]
      },
      {
       "output_type": "stream",
       "stream": "stdout",
       "text": [
        "\n",
        "BFMTV_CultureEtVous_2012-12-17_064700    |  0.706    0.669    0.610  "
       ]
      },
      {
       "output_type": "stream",
       "stream": "stdout",
       "text": [
        "\n",
        "BFMTV_CultureEtVous_2012-12-21_064700    |  0.959    0.893    0.104  "
       ]
      },
      {
       "output_type": "stream",
       "stream": "stdout",
       "text": [
        "\n",
        "BFMTV_CultureEtVous_2013-01-03_064700    |  0.313    0.227    0.254  "
       ]
      },
      {
       "output_type": "stream",
       "stream": "stdout",
       "text": [
        "\n",
        "BFMTV_RuthElkrief_2012-09-18_190340      |  0.436    0.340    0.306  "
       ]
      },
      {
       "output_type": "stream",
       "stream": "stdout",
       "text": [
        "\n",
        "BFMTV_RuthElkrief_2012-09-19_190040      |  0.070    0.043    0.044  "
       ]
      },
      {
       "output_type": "stream",
       "stream": "stdout",
       "text": [
        "\n",
        "BFMTV_RuthElkrief_2012-09-20_190040      |  0.170    0.126    0.145  "
       ]
      },
      {
       "output_type": "stream",
       "stream": "stdout",
       "text": [
        "\n",
        "BFMTV_RuthElkrief_2012-09-21_190040      |  0.150    0.432    0.114  "
       ]
      },
      {
       "output_type": "stream",
       "stream": "stdout",
       "text": [
        "\n",
        "LCP_CaVousRegarde_2012-09-19_002500      |  0.099    0.084    0.066  "
       ]
      },
      {
       "output_type": "stream",
       "stream": "stdout",
       "text": [
        "\n",
        "LCP_CaVousRegarde_2012-09-20_002500      |  0.211    0.209    0.499  "
       ]
      },
      {
       "output_type": "stream",
       "stream": "stdout",
       "text": [
        "\n",
        "LCP_CaVousRegarde_2012-09-25_202500      |  0.130    0.112    0.115  "
       ]
      },
      {
       "output_type": "stream",
       "stream": "stdout",
       "text": [
        "\n",
        "LCP_EntreLesLignes_2012-10-19_212000     |  0.231    0.139    0.115  "
       ]
      },
      {
       "output_type": "stream",
       "stream": "stdout",
       "text": [
        "\n",
        "LCP_EntreLesLignes_2012-12-08_032500     |  0.305    0.135    0.187  "
       ]
      },
      {
       "output_type": "stream",
       "stream": "stdout",
       "text": [
        "\n",
        "LCP_EntreLesLignes_2013-01-19_212400     |  0.187    0.093    0.099  "
       ]
      },
      {
       "output_type": "stream",
       "stream": "stdout",
       "text": [
        "\n",
        "LCP_EntreLesLignes_2013-03-02_212400     |  0.514    0.348    0.362  "
       ]
      },
      {
       "output_type": "stream",
       "stream": "stdout",
       "text": [
        "\n",
        "LCP_EntreLesLignes_2013-03-16_212400     |  0.136    0.301    0.077  "
       ]
      },
      {
       "output_type": "stream",
       "stream": "stdout",
       "text": [
        "\n",
        "LCP_LCPActu14h_2012-11-26_135500         |  0.275    0.058    0.038  "
       ]
      },
      {
       "output_type": "stream",
       "stream": "stdout",
       "text": [
        "\n",
        "LCP_LCPActu14h_2013-01-08_135400         |  0.163    0.106    0.080  "
       ]
      },
      {
       "output_type": "stream",
       "stream": "stdout",
       "text": [
        "\n",
        "LCP_LCPActu14h_2013-01-09_135400         |  0.096    0.032    0.050  "
       ]
      },
      {
       "output_type": "stream",
       "stream": "stdout",
       "text": [
        "\n",
        "LCP_LCPInfo13h30_2012-04-11_132700       |  0.129    0.134    0.057  "
       ]
      },
      {
       "output_type": "stream",
       "stream": "stdout",
       "text": [
        "\n",
        "LCP_LCPInfo13h30_2012-04-12_132700       |  0.102    0.075    0.105  "
       ]
      },
      {
       "output_type": "stream",
       "stream": "stdout",
       "text": [
        "\n",
        "LCP_LCPInfo13h30_2012-04-13_132700       |  0.122    0.098    0.087  "
       ]
      },
      {
       "output_type": "stream",
       "stream": "stdout",
       "text": [
        "\n",
        "LCP_LCPInfo13h30_2012-04-19_132700       |  0.154    0.108    0.106  "
       ]
      },
      {
       "output_type": "stream",
       "stream": "stdout",
       "text": [
        "\n",
        "LCP_LCPInfo13h30_2012-05-03_132700       |  0.418    0.240    0.162  "
       ]
      },
      {
       "output_type": "stream",
       "stream": "stdout",
       "text": [
        "\n",
        "LCP_PileEtFace_2012-07-05_192700         |  0.101    0.118    0.129  "
       ]
      },
      {
       "output_type": "stream",
       "stream": "stdout",
       "text": [
        "\n",
        "LCP_PileEtFace_2012-10-04_192200         |  0.142    0.598    0.153  "
       ]
      },
      {
       "output_type": "stream",
       "stream": "stdout",
       "text": [
        "\n",
        "LCP_PileEtFace_2012-10-15_142500         |  0.049    0.442    0.043  "
       ]
      },
      {
       "output_type": "stream",
       "stream": "stdout",
       "text": [
        "\n",
        "LCP_PileEtFace_2012-10-26_012500         |  0.048    0.072    0.048  "
       ]
      },
      {
       "output_type": "stream",
       "stream": "stdout",
       "text": [
        "\n",
        "LCP_PileEtFace_2012-11-30_012500         |  0.138    0.131    0.126  "
       ]
      },
      {
       "output_type": "stream",
       "stream": "stdout",
       "text": [
        "\n",
        "LCP_PileEtFace_2012-12-08_012500         |  0.067    0.111    0.119  "
       ]
      },
      {
       "output_type": "stream",
       "stream": "stdout",
       "text": [
        "\n",
        "LCP_TopQuestions_2012-11-28_232500       |  0.096    0.333    0.097  "
       ]
      },
      {
       "output_type": "stream",
       "stream": "stdout",
       "text": [
        "\n",
        "LCP_TopQuestions_2013-01-30_232600       |  0.110    0.068    0.076  "
       ]
      },
      {
       "output_type": "stream",
       "stream": "stdout",
       "text": [
        "\n",
        "LCP_TopQuestions_2013-04-24_232600       |  0.131    0.171    0.136  "
       ]
      },
      {
       "output_type": "stream",
       "stream": "stdout",
       "text": [
        "\n"
       ]
      }
     ],
     "prompt_number": 5
    },
    {
     "cell_type": "code",
     "collapsed": false,
     "input": [
      "# identification error rate with a 250ms collar, without unknown\n",
      "ier_collar_noUnknown = compute_ier(references, hypotheses, uems, collar=0.250, unknown=False, verbose=False)"
     ],
     "language": "python",
     "metadata": {},
     "outputs": [],
     "prompt_number": 6
    },
    {
     "cell_type": "code",
     "collapsed": false,
     "input": [
      "# identification error rate without collar, with unknown\n",
      "ier_noCollar_unknown = compute_ier(references, hypotheses, uems, collar=0., unknown=True, verbose=False)"
     ],
     "language": "python",
     "metadata": {},
     "outputs": [],
     "prompt_number": 7
    },
    {
     "cell_type": "code",
     "collapsed": false,
     "input": [
      "# identification error rate with a 250ms collar, with unknown\n",
      "ier_collar_unknown = compute_ier(references, hypotheses, uems, collar=0.250, unknown=True, verbose=False)"
     ],
     "language": "python",
     "metadata": {},
     "outputs": [],
     "prompt_number": 8
    },
    {
     "cell_type": "code",
     "collapsed": false,
     "input": [
      "def print_ier(identificationErrorRate):\n",
      "    \"\"\"Print pretty table\n",
      "    \n",
      "    Parameters\n",
      "    ----------\n",
      "    identificationErrorRate: dict of `IdentificationErrorRate`\n",
      "        Output of `compute_ier`\n",
      "    \"\"\"\n",
      "    \n",
      "    # get list of consortia in alphabetical order\n",
      "    consortia = sorted(identificationErrorRate)\n",
      "\n",
      "    # print accumulated IER, confusion, false alarm, missed detection\n",
      "    print '{team:<8s} | {rate:^5s} | {lower:^5s} < {average:^5s} < {upper:^5s} | {confusion:^6s} {fa:^6s} {miss:^6s} {total:^7s}'.format(\n",
      "        team='TEAM', rate='IER', confusion='CONF', fa='FA', miss='MISS', total='TOTAL', lower='LOWER', average='MEAN', upper='UPPER') \n",
      "\n",
      "    for team in consortia:\n",
      "        average, (lower, upper) = identificationErrorRate[team].confidence_interval(0.90)\n",
      "        print '{team:8s} | {rate:4.1f}% | {lower:4.1f}% < {average:4.1f}% < {upper:4.1f}% | {confusion:6.1f} {fa:6.1f} {miss:6.1f} {total:7.1f}'.format(\n",
      "            team=team, \n",
      "            rate=100*abs(identificationErrorRate[team]),\n",
      "            confusion=identificationErrorRate[team]._BaseMetric__details['confusion'],\n",
      "            fa=identificationErrorRate[team]._BaseMetric__details['false alarm'],\n",
      "            miss=identificationErrorRate[team]._BaseMetric__details['missed detection'],\n",
      "            total=identificationErrorRate[team]._BaseMetric__details['total'],\n",
      "            lower=100*lower, upper=100*upper, average=100*average,\n",
      "        )"
     ],
     "language": "python",
     "metadata": {},
     "outputs": [],
     "prompt_number": 9
    },
    {
     "cell_type": "markdown",
     "metadata": {},
     "source": [
      "There are two ways of computing the final global identification error rate ($\\mathcal{S}$ is the set of shows): \n",
      "- either **accumulate** values (e.g. confusion) over the whole corpus and compute the error rate at the end (this is denoted IER below), \n",
      "- or compute the error rate for each show and compute the **average** error rate at the end (this is denoted MEAN below).\n",
      "\n",
      "$\\displaystyle \\mbox{IER} = \\frac{\\sum_{s \\in \\mathcal{S}} \\text{confusion}_s + \\sum_s \\text{false alarm}_s + \\sum_s \\text{missed detection}_s}{\\sum_s \\text{total}_s}$\n",
      "\n",
      "$\\displaystyle \\mbox{MEAN} = \\frac{1}{\\#\\mathcal{S}} \\sum_{s \\in \\mathcal{S}} \\frac{\\text{confusion}_s + \\text{false alarm}_s + \\text{missed detection}_s}{\\text{total}_{s}}$"
     ]
    },
    {
     "cell_type": "code",
     "collapsed": false,
     "input": [
      "# results without collar, without unknown\n",
      "print_ier(ier_noCollar_noUnknown)"
     ],
     "language": "python",
     "metadata": {},
     "outputs": [
      {
       "output_type": "stream",
       "stream": "stdout",
       "text": [
        "TEAM     |  IER  | LOWER < MEAN  < UPPER |  CONF    FA    MISS   TOTAL \n",
        "percol   | 19.7% | 24.4% < 28.8% < 33.3% | 4458.5 1399.8 1232.3 36040.5\n",
        "qcompere | 20.5% | 24.0% < 29.0% < 33.9% | 4455.1  787.1 2141.6 36040.5"
       ]
      },
      {
       "output_type": "stream",
       "stream": "stdout",
       "text": [
        "\n",
        "soda     | 17.3% | 24.0% < 28.9% < 33.9% | 3167.4 1026.1 2045.8 36040.5\n"
       ]
      }
     ],
     "prompt_number": 10
    },
    {
     "cell_type": "code",
     "collapsed": false,
     "input": [
      "# results with 250ms collar, without unknown\n",
      "print_ier(ier_collar_noUnknown)"
     ],
     "language": "python",
     "metadata": {},
     "outputs": [
      {
       "output_type": "stream",
       "stream": "stdout",
       "text": [
        "TEAM     |  IER  | LOWER < MEAN  < UPPER |  CONF    FA    MISS   TOTAL \n",
        "percol   | 18.2% | 22.6% < 27.0% < 31.5% | 4206.0 1127.9 1051.0 35076.5\n",
        "qcompere | 19.2% | 22.3% < 27.2% < 32.2% | 4212.6  568.4 1939.4 35076.5\n",
        "soda     | 15.9% | 22.1% < 27.0% < 32.0% | 2948.0  787.8 1846.4 35076.5"
       ]
      },
      {
       "output_type": "stream",
       "stream": "stdout",
       "text": [
        "\n"
       ]
      }
     ],
     "prompt_number": 11
    },
    {
     "cell_type": "code",
     "collapsed": false,
     "input": [
      "# results without collar, with unknown\n",
      "print_ier(ier_noCollar_unknown)"
     ],
     "language": "python",
     "metadata": {},
     "outputs": [
      {
       "output_type": "stream",
       "stream": "stdout",
       "text": [
        "TEAM     |  IER  | LOWER < MEAN  < UPPER |  CONF    FA    MISS   TOTAL \n",
        "percol   | 20.8% | 26.2% < 30.7% < 35.2% | 4805.3 1053.0 1838.2 36993.2\n",
        "qcompere | 21.6% | 25.9% < 31.0% < 36.0% | 5678.4  680.1 1646.9 36993.2\n",
        "soda     | 18.5% | 25.4% < 30.4% < 35.5% | 4238.8  900.5 1700.4 36993.2"
       ]
      },
      {
       "output_type": "stream",
       "stream": "stdout",
       "text": [
        "\n"
       ]
      }
     ],
     "prompt_number": 12
    },
    {
     "cell_type": "code",
     "collapsed": false,
     "input": [
      "# results with 250ms collar, with unknown\n",
      "print_ier(ier_collar_unknown)"
     ],
     "language": "python",
     "metadata": {},
     "outputs": [
      {
       "output_type": "stream",
       "stream": "stdout",
       "text": [
        "TEAM     |  IER  | LOWER < MEAN  < UPPER |  CONF    FA    MISS   TOTAL \n",
        "percol   | 19.3% | 24.4% < 29.0% < 33.5% | 4534.2  799.8 1621.1 35974.7\n",
        "qcompere | 20.3% | 24.3% < 29.3% < 34.3% | 5371.1  468.1 1464.2 35974.7"
       ]
      },
      {
       "output_type": "stream",
       "stream": "stdout",
       "text": [
        "\n",
        "soda     | 17.1% | 23.7% < 28.7% < 33.7% | 3964.2  671.7 1510.4 35974.7\n"
       ]
      }
     ],
     "prompt_number": 13
    }
   ],
   "metadata": {}
  }
 ]
}
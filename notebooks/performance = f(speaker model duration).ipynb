{
 "metadata": {
  "name": "",
  "signature": "sha256:a9312af8ba3bbf50ad55972bfe5db10d233bbd8e0e6060f163d16bd25914dae7"
 },
 "nbformat": 3,
 "nbformat_minor": 0,
 "worksheets": [
  {
   "cells": [
    {
     "cell_type": "heading",
     "level": 1,
     "metadata": {},
     "source": [
      "performance = $f$(speaker model duration)"
     ]
    },
    {
     "cell_type": "markdown",
     "metadata": {},
     "source": [
      "The objective of this notebook is to analyse the **effect of training data on system performance**.  \n",
      "We show (and it was expected) that the **less training data** is available for a speaker, the **more difficult** it is to recognize in the mono-modal case (see figures at the end).  \n",
      "Notice the **different behavior for multi-modal** systems, though."
     ]
    },
    {
     "cell_type": "code",
     "collapsed": false,
     "input": [
      "%pylab inline"
     ],
     "language": "python",
     "metadata": {},
     "outputs": [
      {
       "output_type": "stream",
       "stream": "stdout",
       "text": [
        "Populating the interactive namespace from numpy and matplotlib\n"
       ]
      }
     ],
     "prompt_number": 1
    },
    {
     "cell_type": "code",
     "collapsed": false,
     "input": [
      "DATA = '/Volumes/home/Documents/Publications/2014/REPEREErrorAnalysis/data'"
     ],
     "language": "python",
     "metadata": {},
     "outputs": [],
     "prompt_number": 2
    },
    {
     "cell_type": "code",
     "collapsed": false,
     "input": [
      "from pyannote.parser import REPEREParser\n",
      "from pyannote.parser import UEMParser\n",
      "from pyannote.metrics.identification import IdentificationErrorRate\n",
      "from pyannote.core import Timeline\n",
      "from pyannote.core.util import pairwise\n",
      "import numpy as np"
     ],
     "language": "python",
     "metadata": {},
     "outputs": [],
     "prompt_number": 3
    },
    {
     "cell_type": "code",
     "collapsed": false,
     "input": [
      "def cropByTrainingDataDuration(reference, hypothesis, train, m, M):\n",
      "    \"\"\"\n",
      "    Parameters\n",
      "    ----------\n",
      "    reference, hypothesis : Annotation\n",
      "        Reference and hypothesis annotations\n",
      "    train : dict\n",
      "        {speaker: training data duration} dictionary\n",
      "    m, M : float\n",
      "        Training data duration range (m <= duration < M)\n",
      "    Returns\n",
      "    -------\n",
      "    reference, hypothesis : Annotation\n",
      "        Reference and hypothesis cropped to reference segments\n",
      "        from speakers with training data duration between m (included) and M (excluded)\n",
      "    \"\"\"\n",
      "    \n",
      "    speakers = set([speaker for speaker in reference.labels() \n",
      "                    if m <= train.get(speaker, -np.inf) and train.get(speaker, -np.inf) < M])\n",
      "    timeline = reference.subset(speakers).get_timeline()\n",
      "    return reference.crop(timeline, mode='intersection'), hypothesis.crop(timeline, mode='intersection')"
     ],
     "language": "python",
     "metadata": {},
     "outputs": [],
     "prompt_number": 4
    },
    {
     "cell_type": "markdown",
     "metadata": {},
     "source": [
      "Load reference annotations"
     ]
    },
    {
     "cell_type": "code",
     "collapsed": false,
     "input": [
      "REFERENCE = REPEREParser().read(DATA + '/reference.repere')\n",
      "UEM = UEMParser().read(DATA + '/test2.uem')\n",
      "with open(DATA + '/shows.txt', 'r') as f:\n",
      "    SHOWS = [line.strip() for line in f.readlines()]"
     ],
     "language": "python",
     "metadata": {},
     "outputs": [],
     "prompt_number": 5
    },
    {
     "cell_type": "markdown",
     "metadata": {},
     "source": [
      "Load training data durations"
     ]
    },
    {
     "cell_type": "code",
     "collapsed": false,
     "input": [
      "TEAMS = ['QCOMPERE', 'PERCOL', 'SODA']\n",
      "TRAIN = {team: {} for team in TEAMS}\n",
      "for team in TEAMS:\n",
      "    with open(DATA + '/' + team.lower() + '.model.txt', 'r') as f:\n",
      "        for line in f.readlines():\n",
      "            speaker, duration = line.split()\n",
      "            TRAIN[team][speaker] = float(duration)"
     ],
     "language": "python",
     "metadata": {},
     "outputs": [],
     "prompt_number": 6
    },
    {
     "cell_type": "code",
     "collapsed": false,
     "input": [
      "durationBins = np.concatenate((np.logspace(1.4, 3, num=10), [np.inf]))-1"
     ],
     "language": "python",
     "metadata": {},
     "outputs": [],
     "prompt_number": 7
    },
    {
     "cell_type": "heading",
     "level": 2,
     "metadata": {},
     "source": [
      "Mono-modal systems"
     ]
    },
    {
     "cell_type": "code",
     "collapsed": false,
     "input": [
      "QCOMPERE = REPEREParser().read(DATA + '/qcompere.mono.repere')\n",
      "PERCOL = REPEREParser().read(DATA + '/percol.mono.repere')\n",
      "SODA = REPEREParser().read(DATA + '/soda.mono.repere')\n",
      "SUBMISSIONS = {'QCOMPERE': QCOMPERE, 'PERCOL': PERCOL, 'SODA': SODA}"
     ],
     "language": "python",
     "metadata": {},
     "outputs": [],
     "prompt_number": 8
    },
    {
     "cell_type": "code",
     "collapsed": false,
     "input": [
      "ier = {team: {} for team in SUBMISSIONS}\n",
      "for team, HYPOTHESIS in SUBMISSIONS.iteritems():\n",
      "    for m, M in pairwise(durationBins):\n",
      "        ier[team][m, M] = IdentificationErrorRate()\n",
      "        for show in SHOWS:\n",
      "            reference = REFERENCE(show, 'speaker').crop(UEM(show), mode='intersection')\n",
      "            hypothesis = HYPOTHESIS(show, 'speaker')\n",
      "            reference, hypothesis = cropByTrainingDataDuration(reference, hypothesis, TRAIN[team], m, M)\n",
      "            ier[team][m, M](reference, hypothesis, uem=reference.get_timeline())"
     ],
     "language": "python",
     "metadata": {},
     "outputs": [],
     "prompt_number": 9
    },
    {
     "cell_type": "code",
     "collapsed": false,
     "input": [
      "left = np.log(durationBins[:-1]+1)\n",
      "width = [np.log(M+1)-np.log(m+1) for m, M in pairwise(durationBins)]\n",
      "pylab.rcParams['figure.figsize'] = (15.0, 5.0)\n",
      "for t, team in enumerate(SUBMISSIONS):\n",
      "    subplot(1,3,t+1)\n",
      "    height = [abs(ier[team][m, M]) for m, M in pairwise(durationBins)]\n",
      "    bar(left, height, width=width)\n",
      "    xticks(left[::2], ['%.1f' % d for d in durationBins[:-1:2]])\n",
      "    xlabel('Training duration')\n",
      "    ylabel('Identification error rate')\n",
      "    ylim(0, 1)\n",
      "    title(team)"
     ],
     "language": "python",
     "metadata": {},
     "outputs": [
      {
       "metadata": {},
       "output_type": "display_data",
       "png": "[encoded data removed]",
       "text": [
        "<matplotlib.figure.Figure at 0x1116228d0>"
       ]
      }
     ],
     "prompt_number": 10
    },
    {
     "cell_type": "heading",
     "level": 2,
     "metadata": {},
     "source": [
      "Multi-modal systems"
     ]
    },
    {
     "cell_type": "code",
     "collapsed": false,
     "input": [
      "QCOMPERE = REPEREParser().read(DATA + '/qcompere.repere')\n",
      "PERCOL = REPEREParser().read(DATA + '/percol.repere')\n",
      "SODA = REPEREParser().read(DATA + '/soda.repere')\n",
      "SUBMISSIONS = {'QCOMPERE': QCOMPERE, 'PERCOL': PERCOL, 'SODA': SODA}"
     ],
     "language": "python",
     "metadata": {},
     "outputs": [],
     "prompt_number": 11
    },
    {
     "cell_type": "code",
     "collapsed": false,
     "input": [
      "ier = {team: {} for team in SUBMISSIONS}\n",
      "for team, HYPOTHESIS in SUBMISSIONS.iteritems():\n",
      "    for m, M in pairwise(durationBins):\n",
      "        ier[team][m, M] = IdentificationErrorRate()\n",
      "        for show in SHOWS:\n",
      "            reference = REFERENCE(show, 'speaker').crop(UEM(show), mode='intersection')\n",
      "            hypothesis = HYPOTHESIS(show, 'speaker')\n",
      "            reference, hypothesis = cropByTrainingDataDuration(reference, hypothesis, TRAIN[team], m, M)\n",
      "            ier[team][m, M](reference, hypothesis, uem=reference.get_timeline())"
     ],
     "language": "python",
     "metadata": {},
     "outputs": [],
     "prompt_number": 12
    },
    {
     "cell_type": "code",
     "collapsed": false,
     "input": [
      "left = np.log(durationBins[:-1]+1)\n",
      "width = [np.log(M+1)-np.log(m+1) for m, M in pairwise(durationBins)]\n",
      "pylab.rcParams['figure.figsize'] = (15.0, 5.0)\n",
      "for t, team in enumerate(SUBMISSIONS):\n",
      "    subplot(1,3,t+1)\n",
      "    height = [abs(ier[team][m, M]) for m, M in pairwise(durationBins)]\n",
      "    bar(left, height, width=width)\n",
      "    xticks(left[::2], ['%.1f' % d for d in durationBins[:-1:2]])\n",
      "    xlabel('Training duration')\n",
      "    ylabel('Identification error rate')\n",
      "    ylim(0, 1)\n",
      "    title(team)"
     ],
     "language": "python",
     "metadata": {},
     "outputs": [
      {
       "metadata": {},
       "output_type": "display_data",
       "png": "[encoded data removed]",
       "text": [
        "<matplotlib.figure.Figure at 0x1130d6dd0>"
       ]
      }
     ],
     "prompt_number": 13
    },
    {
     "cell_type": "markdown",
     "metadata": {},
     "source": [
      "INTERESTING! Does this mean that PERCOL strongly rely on acoustic speaker ID in their multimodal runs?"
     ]
    }
   ],
   "metadata": {}
  }
 ]
}
{
 "metadata": {
  "name": "",
  "signature": "sha256:ae257dc90e88e2caf6837bd91ddfc908ca1dcf6d607854dcdaa574209e767b83"
 },
 "nbformat": 3,
 "nbformat_minor": 0,
 "worksheets": [
  {
   "cells": [
    {
     "cell_type": "heading",
     "level": 2,
     "metadata": {},
     "source": [
      "Identification error analysis"
     ]
    },
    {
     "cell_type": "markdown",
     "metadata": {},
     "source": [
      "This notebook uses `pyannote.metrics.errors` to analyse identification errors (with and without collar, with and without `Inconnu`) for primary submissions of the 3 consortia. It also relies on `pyannote.parser` to parse submission and reference files.\n",
      "\n",
      "Both module can be installed the easy `pip` way:\n",
      "```bash\n",
      "$ pip install pyannote.metrics pyannote.parser\n",
      "```"
     ]
    },
    {
     "cell_type": "code",
     "collapsed": true,
     "input": [
      "# load parser for files in REPERE submissions format\n",
      "from pyannote.parser.repere import REPEREParser\n",
      "# load parser for UEM files\n",
      "from pyannote.parser.uem import UEMParser"
     ],
     "language": "python",
     "metadata": {},
     "outputs": [
      {
       "output_type": "stream",
       "stream": "stderr",
       "text": [
        "/Volumes/home/Development/virtualenv/pyannote.metrics/lib/python2.7/site-packages/pandas/io/excel.py:626: UserWarning: Installed openpyxl is not supported at this time. Use >=1.6.1 and <2.0.0.\n",
        "  .format(openpyxl_compat.start_ver, openpyxl_compat.stop_ver))\n"
       ]
      }
     ],
     "prompt_number": 1
    },
    {
     "cell_type": "code",
     "collapsed": false,
     "input": [
      "# load reference\n",
      "# (see ../scripts/trs2repere.py)\n",
      "references = REPEREParser().read('../data/reference.repere')\n",
      "\n",
      "# load uem\n",
      "uems = UEMParser().read('../data/test2.uem')\n",
      "\n",
      "# load PRIMARY runs for all 3 consortia\n",
      "consortia = ['percol', 'qcompere', 'soda']\n",
      "#consortia = ['percol']\n",
      "hypotheses = {\n",
      "    team: REPEREParser().read('../data/{team}.repere'.format(team=team)) \n",
      "    for team in consortia}"
     ],
     "language": "python",
     "metadata": {},
     "outputs": [],
     "prompt_number": 2
    },
    {
     "cell_type": "code",
     "collapsed": true,
     "input": [
      "# load identification error analysis tool\n",
      "from pyannote.metrics.errors.identification import IdentificationErrorAnalysis"
     ],
     "language": "python",
     "metadata": {},
     "outputs": [],
     "prompt_number": 3
    },
    {
     "cell_type": "code",
     "collapsed": false,
     "input": [
      "def analyse_ier(references, hypotheses, uems, uris=None, collar=0., unknown=True):\n",
      "    \"\"\"\n",
      "    \n",
      "    Parameters\n",
      "    ----------\n",
      "    references : `REPEREParser`\n",
      "    hypotheses : dict of `REPEREParser`\n",
      "        Dictionary keys are names of consortia.\n",
      "    uems : `UEMParser`\n",
      "    uris : iterable, optional\n",
      "        When provided, only perform evaluation on those shows.\n",
      "    collar : float, optional\n",
      "        Collar (in ms) centered on reference boundaries.\n",
      "        Defaults to no collar.\n",
      "    unknown : bool, optional\n",
      "        Keep unknown. Defaults to True.\n",
      "        \n",
      "    Returns\n",
      "    -------\n",
      "    analysis : dict of dict of DataFrame\n",
      "        Consortia-indexed dictionary of show-index dictionary accumulated identification error rates.\n",
      "    \"\"\"\n",
      "    \n",
      "    # get list of consortia in alphabetical order\n",
      "    consortia = sorted(hypotheses)\n",
      "    \n",
      "    # defaults to all show in reference\n",
      "    if uris is None:\n",
      "        uris = references.uris\n",
      "    \n",
      "    identificationErrorAnalysis = IdentificationErrorAnalysis(collar=collar, unknown=unknown)\n",
      "    \n",
      "    analysis = {team: dict() for team in consortia}\n",
      "    \n",
      "    # loop on every show (uri stands for 'uniform resource identifier')\n",
      "    for u, uri in enumerate(uris):\n",
      "\n",
      "        # get UEM for current show\n",
      "        uem = uems(uri=uri)\n",
      "\n",
      "        # get reference for this very show\n",
      "        reference = references(uri=uri, modality='speaker')\n",
      "    \n",
      "        # get hypothesis for this very show for all three consortia\n",
      "        hypothesis = {\n",
      "            team: hypotheses[team](uri=uri, modality='speaker')\n",
      "            for team in consortia\n",
      "        }\n",
      "\n",
      "        # analyse errors for each team\n",
      "        for team in consortia:\n",
      "            analysis[team][uri] = identificationErrorAnalysis.matrix(reference, hypothesis[team], uem=uem)\n",
      "        \n",
      "    return analysis"
     ],
     "language": "python",
     "metadata": {},
     "outputs": [],
     "prompt_number": 4
    },
    {
     "cell_type": "code",
     "collapsed": false,
     "input": [
      "analysis = analyse_ier(references, hypotheses, uems, uris=None, collar=0., unknown=False)"
     ],
     "language": "python",
     "metadata": {},
     "outputs": [],
     "prompt_number": 5
    },
    {
     "cell_type": "code",
     "collapsed": false,
     "input": [
      "analysis['soda']['LCP_PileEtFace_2012-07-05_192700']"
     ],
     "language": "python",
     "metadata": {},
     "outputs": [
      {
       "html": [
        "<div style=\"max-height:1000px;max-width:1500px;overflow:auto;\">\n",
        "<table border=\"1\" class=\"dataframe\">\n",
        "  <thead>\n",
        "    <tr style=\"text-align: right;\">\n",
        "      <th></th>\n",
        "      <th>correct</th>\n",
        "      <th>confusion</th>\n",
        "      <th>false alarm</th>\n",
        "      <th>missed detection</th>\n",
        "      <th>Bruno_LE_ROUX</th>\n",
        "      <th>Christian_JACOB</th>\n",
        "      <th>Jean-Pierre_GRATIEN</th>\n",
        "    </tr>\n",
        "  </thead>\n",
        "  <tbody>\n",
        "    <tr>\n",
        "      <th>Bruno_LE_ROUX</th>\n",
        "      <td> 352.136</td>\n",
        "      <td>  7.081</td>\n",
        "      <td> 5.183</td>\n",
        "      <td> 39.415</td>\n",
        "      <td> 352.136</td>\n",
        "      <td>   2.409</td>\n",
        "      <td>   4.672</td>\n",
        "    </tr>\n",
        "    <tr>\n",
        "      <th>Christian_JACOB</th>\n",
        "      <td> 332.060</td>\n",
        "      <td>  1.157</td>\n",
        "      <td> 1.903</td>\n",
        "      <td>  4.251</td>\n",
        "      <td>   0.666</td>\n",
        "      <td> 332.060</td>\n",
        "      <td>   0.491</td>\n",
        "    </tr>\n",
        "    <tr>\n",
        "      <th>Jean-Pierre_GRATIEN</th>\n",
        "      <td> 111.932</td>\n",
        "      <td> 27.868</td>\n",
        "      <td> 1.858</td>\n",
        "      <td> 28.375</td>\n",
        "      <td>   8.865</td>\n",
        "      <td>  19.003</td>\n",
        "      <td> 111.932</td>\n",
        "    </tr>\n",
        "  </tbody>\n",
        "</table>\n",
        "</div>"
       ],
       "metadata": {},
       "output_type": "pyout",
       "prompt_number": 6,
       "text": [
        "<pyannote.core.matrix.LabelMatrix at 0x10a487d50>"
       ]
      }
     ],
     "prompt_number": 6
    }
   ],
   "metadata": {}
  }
 ]
}